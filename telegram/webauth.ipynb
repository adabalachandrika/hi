{
 "cells": [
  {
   "cell_type": "code",
   "execution_count": 1,
   "id": "c57f1ec6",
   "metadata": {},
   "outputs": [],
   "source": [
    "import json \n",
    "import pandas as pd"
   ]
  },
  {
   "cell_type": "code",
   "execution_count": 10,
   "id": "e90dcfb0",
   "metadata": {},
   "outputs": [
    {
     "data": {
      "text/plain": [
       "'Web3Auth Developer Group'"
      ]
     },
     "execution_count": 10,
     "metadata": {},
     "output_type": "execute_result"
    }
   ],
   "source": [
    "with open(\"result.json\",encoding=\"utf8\") as f:\n",
    "    data=json.load(f)\n",
    "data['name']"
   ]
  },
  {
   "cell_type": "code",
   "execution_count": 3,
   "id": "47f49feb",
   "metadata": {},
   "outputs": [
    {
     "name": "stdout",
     "output_type": "stream",
     "text": [
      "6829\n"
     ]
    }
   ],
   "source": [
    "msgs=data['messages']\n",
    "print(len(msgs))\n",
    "messages=[]\n",
    "for msg in msgs:\n",
    "    txt=msg['text']\n",
    "    if(len(txt)>5):\n",
    "        messages.append(txt)"
   ]
  },
  {
   "cell_type": "code",
   "execution_count": 4,
   "id": "e2f261f4",
   "metadata": {},
   "outputs": [],
   "source": [
    "messages=pd.Series(messages)"
   ]
  },
  {
   "cell_type": "code",
   "execution_count": 5,
   "id": "c2879acc",
   "metadata": {},
   "outputs": [
    {
     "name": "stdout",
     "output_type": "stream",
     "text": [
      "4023\n"
     ]
    }
   ],
   "source": [
    "messages=messages.dropna()\n",
    "print(len(messages))"
   ]
  },
  {
   "cell_type": "code",
   "execution_count": 7,
   "id": "ea353c74",
   "metadata": {},
   "outputs": [
    {
     "data": {
      "text/plain": [
       "False"
      ]
     },
     "execution_count": 7,
     "metadata": {},
     "output_type": "execute_result"
    }
   ],
   "source": [
    "messages.isnull().values.any()"
   ]
  },
  {
   "cell_type": "code",
   "execution_count": 8,
   "id": "ac4ff346",
   "metadata": {},
   "outputs": [],
   "source": [
    "import re\n",
    "symbols =re.compile(r'{.*?}',flags=re.UNICODE)\n",
    "\n",
    "def clean_msg(msg):\n",
    "    msg = str(msg)\n",
    "    msg = symbols.sub(\" \",msg)\n",
    "    msg = msg.strip()\n",
    "    msg = re.sub(r\"^\\W+\", \"\", msg)\n",
    "    msg = msg.replace('[', '').replace(']', '')\n",
    "    return msg"
   ]
  },
  {
   "cell_type": "code",
   "execution_count": 9,
   "id": "ba835889",
   "metadata": {},
   "outputs": [
    {
     "name": "stdout",
     "output_type": "stream",
     "text": [
      "0       Hi, I see some documentation of using Torus wi...\n",
      "1        There isn't native support at this point in time\n",
      "2                                        Any workarounds?\n",
      "3       if you're able to use a webview in your Androi...\n",
      "4                            Ah :( \\nNone for iOS either?\n",
      "                              ...                        \n",
      "4018          Hello, are you guys compatible with Tezos ?\n",
      "4019    Hello, I am running into an issue with redirec...\n",
      "4020    or maybe the move is just use ethers to genera...\n",
      "4021    yeah u are correct these are unsigned tokens s...\n",
      "4022    Hello team,\\nIn the documentation I have found...\n",
      "Length: 4023, dtype: object\n"
     ]
    }
   ],
   "source": [
    "messages=messages.apply(clean_msg)\n",
    "print(messages)\n",
    "messages.to_csv(\"webauth.csv\",index=False)"
   ]
  },
  {
   "cell_type": "code",
   "execution_count": null,
   "id": "4d818e8f",
   "metadata": {},
   "outputs": [],
   "source": []
  },
  {
   "cell_type": "code",
   "execution_count": null,
   "id": "547b3d58",
   "metadata": {},
   "outputs": [],
   "source": []
  }
 ],
 "metadata": {
  "kernelspec": {
   "display_name": "Python 3 (ipykernel)",
   "language": "python",
   "name": "python3"
  },
  "language_info": {
   "codemirror_mode": {
    "name": "ipython",
    "version": 3
   },
   "file_extension": ".py",
   "mimetype": "text/x-python",
   "name": "python",
   "nbconvert_exporter": "python",
   "pygments_lexer": "ipython3",
   "version": "3.10.4"
  }
 },
 "nbformat": 4,
 "nbformat_minor": 5
}
