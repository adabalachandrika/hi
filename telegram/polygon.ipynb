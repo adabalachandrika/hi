{
 "cells": [
  {
   "cell_type": "code",
   "execution_count": 1,
   "id": "72ae8908",
   "metadata": {},
   "outputs": [],
   "source": [
    "import json \n",
    "import pandas as pd"
   ]
  },
  {
   "cell_type": "code",
   "execution_count": 2,
   "id": "d0c4682b",
   "metadata": {},
   "outputs": [],
   "source": [
    "with open(\"result.json\",encoding=\"utf8\") as f:\n",
    "    data=json.load(f)\n"
   ]
  },
  {
   "cell_type": "code",
   "execution_count": 3,
   "id": "56c57468",
   "metadata": {},
   "outputs": [
    {
     "name": "stdout",
     "output_type": "stream",
     "text": [
      "500130\n"
     ]
    }
   ],
   "source": [
    "msgs=data['messages']\n",
    "print(len(msgs))\n",
    "messages=[]\n",
    "for msg in msgs:\n",
    "    txt=msg['text']\n",
    "    if(len(txt)>5):\n",
    "        messages.append(txt)"
   ]
  },
  {
   "cell_type": "code",
   "execution_count": 4,
   "id": "ec539a26",
   "metadata": {},
   "outputs": [],
   "source": [
    "messages=pd.Series(messages)"
   ]
  },
  {
   "cell_type": "code",
   "execution_count": 5,
   "id": "ef8eaf67",
   "metadata": {},
   "outputs": [
    {
     "name": "stdout",
     "output_type": "stream",
     "text": [
      "385110\n"
     ]
    }
   ],
   "source": [
    "messages=messages.dropna()\n",
    "print(len(messages))"
   ]
  },
  {
   "cell_type": "code",
   "execution_count": 6,
   "id": "3d4b57d1",
   "metadata": {},
   "outputs": [
    {
     "data": {
      "text/plain": [
       "False"
      ]
     },
     "execution_count": 6,
     "metadata": {},
     "output_type": "execute_result"
    }
   ],
   "source": [
    "messages.isnull().values.any()"
   ]
  },
  {
   "cell_type": "code",
   "execution_count": 7,
   "id": "3171aac9",
   "metadata": {},
   "outputs": [],
   "source": [
    "import re\n",
    "symbols =re.compile(r'{.*?}',flags=re.UNICODE)\n",
    "\n",
    "def clean_msg(msg):\n",
    "    msg = str(msg)\n",
    "    msg = symbols.sub(\" \",msg)\n",
    "    msg = msg.strip()\n",
    "    msg = re.sub(r\"^\\W+\", \"\", msg)\n",
    "    msg = msg.replace('[', '').replace(']', '')\n",
    "    return msg"
   ]
  },
  {
   "cell_type": "code",
   "execution_count": 8,
   "id": "f6708eae",
   "metadata": {},
   "outputs": [],
   "source": [
    "messages=messages.apply(clean_msg)\n",
    "messages\n",
    "messages.to_csv(\"polygon.csv\",index=False)"
   ]
  },
  {
   "cell_type": "code",
   "execution_count": null,
   "id": "7d3ceeb7",
   "metadata": {},
   "outputs": [],
   "source": []
  }
 ],
 "metadata": {
  "kernelspec": {
   "display_name": "Python 3 (ipykernel)",
   "language": "python",
   "name": "python3"
  },
  "language_info": {
   "codemirror_mode": {
    "name": "ipython",
    "version": 3
   },
   "file_extension": ".py",
   "mimetype": "text/x-python",
   "name": "python",
   "nbconvert_exporter": "python",
   "pygments_lexer": "ipython3",
   "version": "3.10.4"
  }
 },
 "nbformat": 4,
 "nbformat_minor": 5
}
