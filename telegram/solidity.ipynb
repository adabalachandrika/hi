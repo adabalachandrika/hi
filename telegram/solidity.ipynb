{
 "cells": [
  {
   "cell_type": "code",
   "execution_count": 2,
   "id": "69e1a80a",
   "metadata": {},
   "outputs": [],
   "source": [
    "import json \n",
    "import pandas as pd"
   ]
  },
  {
   "cell_type": "code",
   "execution_count": 3,
   "id": "ba9cf543",
   "metadata": {},
   "outputs": [],
   "source": [
    "with open(\"result.json\",encoding=\"utf8\") as f:\n",
    "    data=json.load(f)"
   ]
  },
  {
   "cell_type": "code",
   "execution_count": 4,
   "id": "c0a84ede",
   "metadata": {},
   "outputs": [
    {
     "name": "stdout",
     "output_type": "stream",
     "text": [
      "126546\n"
     ]
    }
   ],
   "source": [
    "msgs=data['messages']\n",
    "print(len(msgs))\n",
    "messages=[]\n",
    "for msg in msgs:\n",
    "    txt=msg['text']\n",
    "    if(len(txt)>5):\n",
    "        messages.append(txt)"
   ]
  },
  {
   "cell_type": "code",
   "execution_count": 5,
   "id": "a1580e91",
   "metadata": {},
   "outputs": [],
   "source": [
    "messages=pd.Series(messages)"
   ]
  },
  {
   "cell_type": "code",
   "execution_count": 6,
   "id": "579fefd1",
   "metadata": {},
   "outputs": [
    {
     "name": "stdout",
     "output_type": "stream",
     "text": [
      "97915\n"
     ]
    }
   ],
   "source": [
    "messages=messages.dropna()\n",
    "print(len(messages))"
   ]
  },
  {
   "cell_type": "code",
   "execution_count": 7,
   "id": "3f604644",
   "metadata": {},
   "outputs": [
    {
     "name": "stdout",
     "output_type": "stream",
     "text": [
      "0        Random question, I'm considering joining a poo...\n",
      "1                        Thanks Andrey, I'll check it out!\n",
      "2                                               Hello guys\n",
      "3                                             Hello friend\n",
      "4                                                 Zdarov:)\n",
      "                               ...                        \n",
      "97910                                           What's up!\n",
      "97911                                           You can DM\n",
      "97912    seems like a very poor attempt to cover up the...\n",
      "97913    Hello I opened a new faucet that give free 0.5...\n",
      "97914    cool find, wonder why they try to cover it up ...\n",
      "Length: 97915, dtype: object\n"
     ]
    },
    {
     "data": {
      "text/plain": [
       "False"
      ]
     },
     "execution_count": 7,
     "metadata": {},
     "output_type": "execute_result"
    }
   ],
   "source": [
    "print(messages)\n",
    "messages.isnull().values.any()"
   ]
  },
  {
   "cell_type": "code",
   "execution_count": 8,
   "id": "3bd8c842",
   "metadata": {},
   "outputs": [],
   "source": [
    "import re\n",
    "symbols =re.compile(r'{.*?}',flags=re.UNICODE)\n",
    "\n",
    "def clean_msg(msg):\n",
    "    msg = str(msg)\n",
    "    msg = symbols.sub(\" \",msg)\n",
    "    msg = msg.strip()\n",
    "    msg = re.sub(r\"^\\W+\", \"\", msg)\n",
    "    msg = msg.replace('[', '').replace(']', '')\n",
    "    return msg"
   ]
  },
  {
   "cell_type": "code",
   "execution_count": 10,
   "id": "755d1f9c",
   "metadata": {},
   "outputs": [
    {
     "name": "stdout",
     "output_type": "stream",
     "text": [
      "0        Random question, I'm considering joining a poo...\n",
      "1                        Thanks Andrey, I'll check it out!\n",
      "2                                               Hello guys\n",
      "3                                             Hello friend\n",
      "4                                                 Zdarov:)\n",
      "                               ...                        \n",
      "97910                                           What's up!\n",
      "97911                                           You can DM\n",
      "97912    seems like a very poor attempt to cover up the...\n",
      "97913    Hello I opened a new faucet that give free 0.5...\n",
      "97914    cool find, wonder why they try to cover it up ...\n",
      "Length: 97915, dtype: object\n"
     ]
    }
   ],
   "source": [
    "messages=messages.apply(clean_msg)\n",
    "print(messages)\n",
    "messages.to_csv(\"solidity_development.csv\",index=False)"
   ]
  },
  {
   "cell_type": "code",
   "execution_count": null,
   "id": "1c04b3f9",
   "metadata": {},
   "outputs": [],
   "source": []
  },
  {
   "cell_type": "code",
   "execution_count": null,
   "id": "a3e73513",
   "metadata": {},
   "outputs": [],
   "source": []
  }
 ],
 "metadata": {
  "kernelspec": {
   "display_name": "Python 3 (ipykernel)",
   "language": "python",
   "name": "python3"
  },
  "language_info": {
   "codemirror_mode": {
    "name": "ipython",
    "version": 3
   },
   "file_extension": ".py",
   "mimetype": "text/x-python",
   "name": "python",
   "nbconvert_exporter": "python",
   "pygments_lexer": "ipython3",
   "version": "3.10.4"
  }
 },
 "nbformat": 4,
 "nbformat_minor": 5
}
