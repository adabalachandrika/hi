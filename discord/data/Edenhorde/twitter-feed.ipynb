{
 "cells": [
  {
   "cell_type": "code",
   "execution_count": 1,
   "id": "b19152ec",
   "metadata": {},
   "outputs": [],
   "source": [
    "import os\n",
    "import json"
   ]
  },
  {
   "cell_type": "code",
   "execution_count": 2,
   "id": "259603b5",
   "metadata": {},
   "outputs": [],
   "source": [
    "files=os.listdir(\"📣・twitter-feed/\")\n",
    "base=\"📣・twitter-feed/\""
   ]
  },
  {
   "cell_type": "code",
   "execution_count": 3,
   "id": "7437ce3c",
   "metadata": {},
   "outputs": [],
   "source": [
    "for file in files:\n",
    "    s=\"\"\n",
    "    a=file.split('_')\n",
    "    content = json.loads(open(base+file).read())['messages']\n",
    "    for i in range(len(content)):\n",
    "        content=json.loads(open(base+file).read())['messages'][i][0]['content']\n",
    "        content=content+\"\\n\"\n",
    "        s=s+content\n",
    "    if '2021' in file:\n",
    "        with open(\"files/twitter-feed/📣・twitter-feed_2021_\"+a[1]+\".txt\", \"a\", encoding='utf8') as f:\n",
    "            f.write(s+\"\\n\\n///////////////////////////////////////////////////////////////////////////////////////////////\\n\\n\")\n",
    "    elif '2022' in file:\n",
    "        with open(\"files/twitter-feed/📣・twitter-feed_2022_\"+a[1]+\".txt\", \"a\", encoding='utf8') as f:\n",
    "            f.write(s+\"\\n\\n///////////////////////////////////////////////////////////////////////////////////////////////\\n\\n\")"
   ]
  },
  {
   "cell_type": "code",
   "execution_count": null,
   "id": "8a9dae6b",
   "metadata": {},
   "outputs": [],
   "source": []
  }
 ],
 "metadata": {
  "kernelspec": {
   "display_name": "Python 3 (ipykernel)",
   "language": "python",
   "name": "python3"
  },
  "language_info": {
   "codemirror_mode": {
    "name": "ipython",
    "version": 3
   },
   "file_extension": ".py",
   "mimetype": "text/x-python",
   "name": "python",
   "nbconvert_exporter": "python",
   "pygments_lexer": "ipython3",
   "version": "3.9.7"
  }
 },
 "nbformat": 4,
 "nbformat_minor": 5
}
